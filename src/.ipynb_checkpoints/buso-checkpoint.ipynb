{
 "cells": [
  {
   "cell_type": "code",
   "execution_count": 1,
   "id": "f5bc2490",
   "metadata": {},
   "outputs": [],
   "source": [
    "import pandas as pd\n",
    "import matplotlib.pyplot as plt\n",
    "import numpy as np\n",
    "import re\n",
    "import xgboost as xgb\n",
    "from sklearn.model_selection import ParameterGrid\n",
    "from tqdm import tqdm\n",
    "\n",
    "tqdm.pandas()"
   ]
  },
  {
   "cell_type": "code",
   "execution_count": 2,
   "id": "3de16005",
   "metadata": {},
   "outputs": [],
   "source": [
    "# Import data #\n",
    "df = pd.read_csv('../cars.csv', sep=';', index_col=0,\n",
    "                 converters={'Features': lambda x: re.sub('[\\[\\\"\\]]', '', x).split(',')})"
   ]
  },
  {
   "cell_type": "markdown",
   "id": "4f868127",
   "metadata": {},
   "source": [
    "# Explanatory data analysis"
   ]
  },
  {
   "cell_type": "code",
   "execution_count": 3,
   "id": "37037db7",
   "metadata": {},
   "outputs": [
    {
     "name": "stdout",
     "output_type": "stream",
     "text": [
      "<class 'pandas.core.frame.DataFrame'>\n",
      "Int64Index: 17362 entries, 1 to 17362\n",
      "Data columns (total 16 columns):\n",
      " #   Column          Non-Null Count  Dtype  \n",
      "---  ------          --------------  -----  \n",
      " 0   Price           17362 non-null  int64  \n",
      " 1   Make            17344 non-null  object \n",
      " 2   Model           17213 non-null  object \n",
      " 3   Body            15904 non-null  object \n",
      " 4   Fuel            17108 non-null  object \n",
      " 5   EngineSize      10357 non-null  float64\n",
      " 6   Tachometer      17362 non-null  int64  \n",
      " 7   Gearbox         17029 non-null  object \n",
      " 8   ProductionYear  17362 non-null  int64  \n",
      " 9   Color           6243 non-null   object \n",
      " 10  Private         17362 non-null  int64  \n",
      " 11  EnginePower     16629 non-null  float64\n",
      " 12  Doors           6440 non-null   float64\n",
      " 13  Seats           6358 non-null   float64\n",
      " 14  Advert_Title    17362 non-null  object \n",
      " 15  Features        17362 non-null  object \n",
      "dtypes: float64(4), int64(4), object(8)\n",
      "memory usage: 2.3+ MB\n"
     ]
    }
   ],
   "source": [
    "df.info()"
   ]
  },
  {
   "cell_type": "markdown",
   "id": "a1b29825",
   "metadata": {},
   "source": [
    "Lot of missing values - will have to handle it later. And also different kind of data. Let's have a look."
   ]
  },
  {
   "cell_type": "code",
   "execution_count": 4,
   "id": "065d2f5b",
   "metadata": {},
   "outputs": [
    {
     "name": "stdout",
     "output_type": "stream",
     "text": [
      "       Price   Make       Model          Body          Fuel  EngineSize  \\\n",
      "RN                                                                        \n",
      "1       6690   Opel      Meriva           MPV        Petrol      1364.0   \n",
      "2       7100    BMW           5         Combi        Diesel         NaN   \n",
      "3      45000   Audi          A5         Coupe        Petrol      1984.0   \n",
      "4      28950    BMW           3  Sedan/Saloon        Diesel      2993.0   \n",
      "5       8500   Audi          A5         Coupe        Petrol      1800.0   \n",
      "...      ...    ...         ...           ...           ...         ...   \n",
      "17358  11500   Ford      Mondeo  Sedan/Saloon        Diesel      2000.0   \n",
      "17359   6499   Audi  A4 Allroad         Combi        Diesel      2997.0   \n",
      "17360  49950     VW     Touareg           SUV        Diesel      2967.0   \n",
      "17361   4900  Volvo         C30  Sedan/Saloon        Diesel      1984.0   \n",
      "17362   9850   Fiat         500     Hatchback  Elektromotor         NaN   \n",
      "\n",
      "       Tachometer  Gearbox  ProductionYear  Color  Private  EnginePower  \\\n",
      "RN                                                                        \n",
      "1           64250   Manual            2012   Grey        1         88.0   \n",
      "2          213000  Automat            2009    NaN        0        130.0   \n",
      "3           17400  Automat            2019   Grey        1        180.0   \n",
      "4          189000  Automat            2017   Blue        1        190.0   \n",
      "5          226000  Automat            2008    NaN        1        132.0   \n",
      "...           ...      ...             ...    ...      ...          ...   \n",
      "17358      174000   Manual            2015    NaN        0        110.0   \n",
      "17359      186500  Automat            2006  Black        0        171.0   \n",
      "17360       15500  Automat            2019  White        1        170.0   \n",
      "17361      186000   Manual            2010  Black        0        110.0   \n",
      "17362       65000  Automat            2010    NaN        1         22.0   \n",
      "\n",
      "       Doors  Seats                                       Advert_Title  \\\n",
      "RN                                                                       \n",
      "1        5.0    5.0                    Opel Meriva 1.4 ecoflex Edition   \n",
      "2        NaN    NaN    BMW BMW 520 D TOURING-2.HAND-Scheckheftgepflegt   \n",
      "3        5.0    4.0         Audi A5 Sportback 45 TFSI quattro S tronic   \n",
      "4        5.0    5.0  BMW 330d xDrive Automatik M Sportpaket TOP AUT...   \n",
      "5        NaN    NaN             Audi AUDI A5 1.8 TFSI S-LINE AUTOMATIC   \n",
      "...      ...    ...                                                ...   \n",
      "17358    NaN    NaN         Ford Ford Mondeo 2,0,lt Diesel 2015.150,PS   \n",
      "17359    5.0    NaN                                    Audi A4 Allroad   \n",
      "17360    5.0    5.0  Volkswagen Touareg 3.0 V6 TDI 4Motion Automati...   \n",
      "17361    3.0    4.0                          Volvo C30 D3 Momentum 2.0   \n",
      "17362    NaN    NaN  Fiat Fiat 500 Elektro, 30 kw Motorleistung, Ta...   \n",
      "\n",
      "                                                Features  \n",
      "RN                                                        \n",
      "1      [ABS, All season tyres, CD player, Central loc...  \n",
      "2                                                     []  \n",
      "3      [ABS, Adaptive cornering lights, Adaptive Crui...  \n",
      "4      [ABS, Adaptive cornering lights, Adaptive Crui...  \n",
      "5      [ABS, Bluetooth, Cruise control, Full Service ...  \n",
      "...                                                  ...  \n",
      "17358                                                 []  \n",
      "17359  [ABS, Alloy wheels, All season tyres, Central ...  \n",
      "17360  [ABS, Air suspension, Alloy wheels, Ambient li...  \n",
      "17361  [ABS, Adaptive cornering lights, Alloy wheels,...  \n",
      "17362                                      [Tuner/radio]  \n",
      "\n",
      "[17362 rows x 16 columns]\n"
     ]
    }
   ],
   "source": [
    "with pd.option_context('display.max_columns', None):\n",
    "    print(df)"
   ]
  },
  {
   "cell_type": "markdown",
   "id": "7ace8247",
   "metadata": {},
   "source": [
    "Let's have a look also from higher perspective."
   ]
  },
  {
   "cell_type": "code",
   "execution_count": 5,
   "id": "61566f0f",
   "metadata": {},
   "outputs": [
    {
     "data": {
      "image/png": "[encoded data removed]",
      "text/plain": [
       "<Figure size 1296x1440 with 9 Axes>"
      ]
     },
     "metadata": {
      "needs_background": "light"
     },
     "output_type": "display_data"
    }
   ],
   "source": [
    "df_num = df.select_dtypes(['int64', 'float64'])\n",
    "df_num.replace(np.nan, -1).hist(figsize=(18, 20), xlabelsize=10, ylabelsize=10, bins=50)\n",
    "plt.show()"
   ]
  },
  {
   "cell_type": "markdown",
   "id": "a4b24b7c",
   "metadata": {},
   "source": [
    "And similarly for categorical features."
   ]
  },
  {
   "cell_type": "code",
   "execution_count": 6,
   "id": "9c75ec6e",
   "metadata": {},
   "outputs": [
    {
     "data": {
      "image/png": "[encoded data removed]",
      "text/plain": [
       "<Figure size 1296x1440 with 6 Axes>"
      ]
     },
     "metadata": {
      "needs_background": "light"
     },
     "output_type": "display_data"
    }
   ],
   "source": [
    "df_cat = df.select_dtypes(['object']).copy()\n",
    "df_cat.drop(columns=['Advert_Title', 'Features'], inplace=True) # exclude, they are not categories but texts and lists\n",
    "k = len(df_cat.columns)\n",
    "n = 2\n",
    "m = (k - 1) // n + 1\n",
    "fig, axes = plt.subplots(m, n, figsize=(18, 20))\n",
    "for i, (name, col) in enumerate(df_cat.replace(np.nan, 'MISSING').iteritems()):\n",
    "    r, c = i // n, i % n\n",
    "    ax = axes[r, c]\n",
    "    vc = col.value_counts()\n",
    "    ax.bar(vc.index[:20], vc.values[:20])\n",
    "    ax.tick_params(axis='x', labelrotation=90)\n",
    "    ax.set_title(name)\n",
    "\n",
    "plt.subplots_adjust(left=None, bottom=None, right=None, top=None, wspace=None, hspace=0.55)\n",
    "plt.show()"
   ]
  },
  {
   "cell_type": "markdown",
   "id": "dba7e83e",
   "metadata": {},
   "source": [
    "# Data cleansing"
   ]
  },
  {
   "cell_type": "markdown",
   "id": "247cf3dc",
   "metadata": {},
   "source": [
    "### Price"
   ]
  },
  {
   "cell_type": "code",
   "execution_count": 7,
   "id": "e042ed59",
   "metadata": {},
   "outputs": [],
   "source": [
    "# There is nothing wrong with price column."
   ]
  },
  {
   "cell_type": "markdown",
   "id": "7bf872b9",
   "metadata": {},
   "source": [
    "### Make"
   ]
  },
  {
   "cell_type": "code",
   "execution_count": 8,
   "id": "de809d26",
   "metadata": {},
   "outputs": [],
   "source": [
    "# Drop nulls, does not hurt, because there is few of them\n",
    "df.drop(index=df[df['Make'].isnull()==True].index, inplace=True)"
   ]
  },
  {
   "cell_type": "code",
   "execution_count": 9,
   "id": "dcd5ee61",
   "metadata": {},
   "outputs": [
    {
     "data": {
      "text/plain": [
       "Make\n",
       "Abarth             7\n",
       "Aixam              4\n",
       "Alfa Romeo        58\n",
       "Alpine             7\n",
       "Aston Martin       1\n",
       "Audi            1899\n",
       "BMW             2365\n",
       "Brilliance         4\n",
       "Cadillac           7\n",
       "Caterham           2\n",
       "Chevrolet         84\n",
       "Chrysler          28\n",
       "Citroen          243\n",
       "Cupra              3\n",
       "DFSK               1\n",
       "Dacia            125\n",
       "Daihatsu           6\n",
       "Dodge             40\n",
       "Ferrari            1\n",
       "Fiat             381\n",
       "Fisker             1\n",
       "Ford            1056\n",
       "GMC                1\n",
       "Honda             90\n",
       "Hummer             1\n",
       "Hyundai          318\n",
       "Infiniti           6\n",
       "Isuzu              1\n",
       "Iveco             10\n",
       "Jaguar            35\n",
       "Jeep              62\n",
       "Kia              205\n",
       "Lancia             5\n",
       "Land Rover        79\n",
       "Lexus              8\n",
       "Ligier             2\n",
       "Lotus              1\n",
       "Maserati           8\n",
       "Mazda            200\n",
       "Mercedes        1953\n",
       "Microcar           5\n",
       "Mini             282\n",
       "Mitsubishi       107\n",
       "Nissan           268\n",
       "Opel            1204\n",
       "Peugeot          344\n",
       "Porsche          163\n",
       "Renault          479\n",
       "Saab              11\n",
       "Seat             427\n",
       "Skoda            479\n",
       "Smart            243\n",
       "SsangYong          4\n",
       "Subaru            29\n",
       "Suzuki            90\n",
       "Tesla             34\n",
       "Toyota           293\n",
       "VAZ-Lada          11\n",
       "VW              3454\n",
       "Volvo            109\n",
       "Name: Price, dtype: int64"
      ]
     },
     "execution_count": 9,
     "metadata": {},
     "output_type": "execute_result"
    }
   ],
   "source": [
    "# Have a detailed look\n",
    "df.groupby(['Make']).count()['Price']"
   ]
  },
  {
   "cell_type": "markdown",
   "id": "d40b43e0",
   "metadata": {},
   "source": [
    "**\\#littletime** I can't use this column just like that, because there are lot of categories with few observations. I would either try to group them logically e.g. (BMW, AUDI), (Aston Martin, Maserati, Porshe), etc. or make new, less granular features based on brand characteristics like luxurity of brand, region/country etc. But for now, I exclude it from further analysis."
   ]
  },
  {
   "cell_type": "code",
   "execution_count": 10,
   "id": "7fcb2849",
   "metadata": {},
   "outputs": [],
   "source": [
    "df.drop(columns=['Make'], inplace=True)"
   ]
  },
  {
   "cell_type": "markdown",
   "id": "eefe44fe",
   "metadata": {},
   "source": [
    "### Model"
   ]
  },
  {
   "cell_type": "markdown",
   "id": "a0ce6336",
   "metadata": {},
   "source": [
    "**\\#littletime** It makes sense to use this feature in combination with Make feature in order to determine market segment (A, B, C, ... class) of the car and use this new feature. But for now, I exclude it from further analysis."
   ]
  },
  {
   "cell_type": "code",
   "execution_count": 11,
   "id": "9810dab8",
   "metadata": {},
   "outputs": [],
   "source": [
    "df.drop(columns=['Model'], inplace=True)"
   ]
  },
  {
   "cell_type": "markdown",
   "id": "27cd8790",
   "metadata": {},
   "source": [
    "### Body"
   ]
  },
  {
   "cell_type": "code",
   "execution_count": 12,
   "id": "d7c3d47c",
   "metadata": {},
   "outputs": [],
   "source": [
    "# Drop rows with missing values\n",
    "df.drop(index=df[df['Body'].isnull()==True].index, inplace=True) "
   ]
  },
  {
   "cell_type": "markdown",
   "id": "51b4e70a",
   "metadata": {},
   "source": [
    "**\\#littletime** This is not ideal, because it contains significant number of observations. It might be worth to try to guess from Make and Model using car catalogs."
   ]
  },
  {
   "cell_type": "markdown",
   "id": "34c5f00f",
   "metadata": {},
   "source": [
    "### Fuel"
   ]
  },
  {
   "cell_type": "code",
   "execution_count": 13,
   "id": "b085c8b5",
   "metadata": {},
   "outputs": [],
   "source": [
    "# Drop nulls, does not hurt, because there is few of them\n",
    "df.drop(index=df[df['Fuel'].isnull()==True].index, inplace=True)"
   ]
  },
  {
   "cell_type": "code",
   "execution_count": 14,
   "id": "4a0664c2",
   "metadata": {},
   "outputs": [
    {
     "data": {
      "text/plain": [
       "Fuel\n",
       "CNG                9\n",
       "Diesel          7308\n",
       "E85                1\n",
       "Elektromotor      92\n",
       "Hybrid            94\n",
       "LPG              111\n",
       "Petrol          8119\n",
       "Name: Price, dtype: int64"
      ]
     },
     "execution_count": 14,
     "metadata": {},
     "output_type": "execute_result"
    }
   ],
   "source": [
    "# Have a detailed look\n",
    "df.groupby(['Fuel']).count()['Price']"
   ]
  },
  {
   "cell_type": "code",
   "execution_count": 15,
   "id": "ebdcb7f3",
   "metadata": {},
   "outputs": [],
   "source": [
    "# CNG and LPG are similar (?)\n",
    "df.loc[df['Fuel']=='CNG','Fuel'] = 'LPG'\n",
    "\n",
    "# Exclude this rare category\n",
    "df.drop(index=df[df['Fuel']=='E85'].index, inplace=True)"
   ]
  },
  {
   "cell_type": "markdown",
   "id": "f78fdb2f",
   "metadata": {},
   "source": [
    "### EngineSize"
   ]
  },
  {
   "cell_type": "markdown",
   "id": "56a2b738",
   "metadata": {},
   "source": [
    "**\\#littletime** It has lot of missings. I would either try to get this information from Advert_Title (it seems it occurs there quite often) or based on Make, Model and Engine Power look it up in car catalogs. It is not the same as EnginePower but they are somehow connected and moreover EnginePower is more important in my opinion and has fewer missings. Therefore, I exclude it from further analysis."
   ]
  },
  {
   "cell_type": "code",
   "execution_count": 16,
   "id": "c967b5fb",
   "metadata": {},
   "outputs": [],
   "source": [
    "df.drop(columns=['EngineSize'], inplace=True)"
   ]
  },
  {
   "cell_type": "markdown",
   "id": "11a4c5b3",
   "metadata": {},
   "source": [
    "### Tachometer"
   ]
  },
  {
   "cell_type": "code",
   "execution_count": 17,
   "id": "381b15a2",
   "metadata": {},
   "outputs": [],
   "source": [
    "# Weird drop at 250K, but otherwise seems OK"
   ]
  },
  {
   "cell_type": "markdown",
   "id": "be26cc4f",
   "metadata": {},
   "source": [
    "### Gearbox"
   ]
  },
  {
   "cell_type": "code",
   "execution_count": 18,
   "id": "698bd7a4",
   "metadata": {},
   "outputs": [],
   "source": [
    "# Drop nulls, does not hurt, because there is few of them\n",
    "df.drop(index=df[df['Gearbox'].isnull()==True].index, inplace=True)"
   ]
  },
  {
   "cell_type": "markdown",
   "id": "5be772e8",
   "metadata": {},
   "source": [
    "### ProductionYear"
   ]
  },
  {
   "cell_type": "code",
   "execution_count": 19,
   "id": "c14b7eec",
   "metadata": {},
   "outputs": [],
   "source": [
    "# Make new variable Age instead of ProductionYear\n",
    "df['Age'] = 2022 - df['ProductionYear']\n",
    "df.drop(columns=['ProductionYear'], inplace=True)"
   ]
  },
  {
   "cell_type": "markdown",
   "id": "99da6125",
   "metadata": {},
   "source": [
    "### Color"
   ]
  },
  {
   "cell_type": "code",
   "execution_count": 20,
   "id": "276d9013",
   "metadata": {},
   "outputs": [],
   "source": [
    "# A lot of missings and not so important for price\n",
    "df.drop(columns=['Color'], inplace=True) "
   ]
  },
  {
   "cell_type": "markdown",
   "id": "5870e31b",
   "metadata": {},
   "source": [
    "### Private"
   ]
  },
  {
   "cell_type": "code",
   "execution_count": 21,
   "id": "5e528927",
   "metadata": {},
   "outputs": [],
   "source": [
    "# Seems OK"
   ]
  },
  {
   "cell_type": "markdown",
   "id": "326a771c",
   "metadata": {},
   "source": [
    "### EnginePower"
   ]
  },
  {
   "cell_type": "code",
   "execution_count": 22,
   "id": "4f0a08a9",
   "metadata": {},
   "outputs": [],
   "source": [
    "# Drop nulls, does not hurt, because there is few of them\n",
    "df.drop(index=df[df['EnginePower'].isnull()==True].index, inplace=True)"
   ]
  },
  {
   "cell_type": "code",
   "execution_count": 23,
   "id": "3f2ef433",
   "metadata": {},
   "outputs": [
    {
     "data": {
      "text/plain": [
       "0.00      4.00\n",
       "0.01     44.00\n",
       "0.02     44.00\n",
       "0.03     50.00\n",
       "0.04     51.00\n",
       "         ...  \n",
       "0.96    250.00\n",
       "0.97    280.00\n",
       "0.98    300.00\n",
       "0.99    338.98\n",
       "1.00    929.00\n",
       "Name: EnginePower, Length: 101, dtype: float64"
      ]
     },
     "execution_count": 23,
     "metadata": {},
     "output_type": "execute_result"
    }
   ],
   "source": [
    "# Have a detailed look\n",
    "df['EnginePower'].quantile(np.arange(0,1.01,0.01))"
   ]
  },
  {
   "cell_type": "code",
   "execution_count": 24,
   "id": "49f3c7a8",
   "metadata": {},
   "outputs": [],
   "source": [
    "# Some observations are odd (4HP) some are outliers (929 HP), get rid of them\n",
    "df.drop(index=df[(df['EnginePower']<40)|(df['EnginePower']>300)].index, inplace=True)"
   ]
  },
  {
   "cell_type": "markdown",
   "id": "0cd8f6b2",
   "metadata": {},
   "source": [
    "### Doors"
   ]
  },
  {
   "cell_type": "code",
   "execution_count": 25,
   "id": "7cd87a12",
   "metadata": {},
   "outputs": [
    {
     "data": {
      "text/plain": [
       "Body          Doors\n",
       "Combi         5.0      1191\n",
       "              NaN      1742\n",
       "Convertible   3.0       254\n",
       "              NaN       402\n",
       "Coupe         3.0       212\n",
       "              5.0       103\n",
       "              NaN       500\n",
       "Hatchback     3.0       392\n",
       "              5.0       504\n",
       "              NaN      1536\n",
       "MPV           5.0       352\n",
       "              NaN       562\n",
       "Pickup        3.0         3\n",
       "              5.0        23\n",
       "              NaN        23\n",
       "SUV           3.0        23\n",
       "              5.0      1134\n",
       "              NaN      1175\n",
       "Sedan/Saloon  3.0       151\n",
       "              5.0      1355\n",
       "              NaN      2165\n",
       "VAN           3.0        15\n",
       "              5.0       380\n",
       "              NaN       536\n",
       "Name: Price, dtype: int64"
      ]
     },
     "execution_count": 25,
     "metadata": {},
     "output_type": "execute_result"
    }
   ],
   "source": [
    "df.groupby(['Body', 'Doors'], dropna=False).count()['Price']"
   ]
  },
  {
   "cell_type": "markdown",
   "id": "f2d480df",
   "metadata": {},
   "source": [
    "In my opinion, there is not much more information here than in variable Body and since there are a lot of missings, I exclude it from further analysis."
   ]
  },
  {
   "cell_type": "code",
   "execution_count": 26,
   "id": "6c43d70d",
   "metadata": {},
   "outputs": [],
   "source": [
    "df.drop(columns=['Doors'], inplace=True)"
   ]
  },
  {
   "cell_type": "markdown",
   "id": "341c701b",
   "metadata": {},
   "source": [
    "### Seats"
   ]
  },
  {
   "cell_type": "code",
   "execution_count": 27,
   "id": "87a6154e",
   "metadata": {},
   "outputs": [
    {
     "data": {
      "text/plain": [
       "Body          Seats\n",
       "Combi         2.0         1\n",
       "              3.0         3\n",
       "              4.0         6\n",
       "              5.0      1147\n",
       "              6.0         2\n",
       "              7.0         9\n",
       "              8.0         1\n",
       "              9.0         6\n",
       "              NaN      1758\n",
       "Convertible   2.0        68\n",
       "              4.0       181\n",
       "              5.0         5\n",
       "              NaN       402\n",
       "Coupe         2.0        33\n",
       "              4.0       202\n",
       "              5.0        68\n",
       "              NaN       512\n",
       "Hatchback     2.0        44\n",
       "              4.0       262\n",
       "              5.0       581\n",
       "              NaN      1545\n",
       "MPV           5.0       240\n",
       "              7.0       110\n",
       "              8.0         1\n",
       "              NaN       563\n",
       "Pickup        2.0         1\n",
       "              4.0         4\n",
       "              5.0        19\n",
       "              NaN        25\n",
       "SUV           3.0         2\n",
       "              4.0        26\n",
       "              5.0      1043\n",
       "              6.0         2\n",
       "              7.0        64\n",
       "              NaN      1195\n",
       "Sedan/Saloon  2.0         1\n",
       "              4.0        81\n",
       "              5.0      1412\n",
       "              NaN      2177\n",
       "VAN           2.0        40\n",
       "              3.0        49\n",
       "              4.0         4\n",
       "              5.0       139\n",
       "              6.0        29\n",
       "              7.0        91\n",
       "              8.0        23\n",
       "              9.0        16\n",
       "              17.0        1\n",
       "              NaN       539\n",
       "Name: Price, dtype: int64"
      ]
     },
     "execution_count": 27,
     "metadata": {},
     "output_type": "execute_result"
    }
   ],
   "source": [
    "df.groupby(['Body', 'Seats'], dropna=False).count()['Price']"
   ]
  },
  {
   "cell_type": "markdown",
   "id": "4a8040ca",
   "metadata": {},
   "source": [
    "**\\#littletime** There might be a bit more information here so if I wanted to make 'perfect' model, I would try to look this information either in catalogs or check if there is similar observation (either manually or e.g. KNN) and use that value. But since there are a lot of missings, I exclude it from further analysis."
   ]
  },
  {
   "cell_type": "code",
   "execution_count": 28,
   "id": "342a3ff1",
   "metadata": {},
   "outputs": [],
   "source": [
    "df.drop(columns=['Seats'], inplace=True)"
   ]
  },
  {
   "cell_type": "markdown",
   "id": "d1409d62",
   "metadata": {},
   "source": [
    "### Advert_Title"
   ]
  },
  {
   "cell_type": "markdown",
   "id": "f124d7cd",
   "metadata": {},
   "source": [
    "**\\#littletime** This feature might be useful for imputation of missing values into other features or even making new features (e.g. engine special properties). But for now, I exclude it from further analysis."
   ]
  },
  {
   "cell_type": "code",
   "execution_count": 29,
   "id": "0a2f994b",
   "metadata": {},
   "outputs": [],
   "source": [
    "df.drop(columns=['Advert_Title'], inplace=True)"
   ]
  },
  {
   "cell_type": "markdown",
   "id": "4043d853",
   "metadata": {},
   "source": [
    "### Features"
   ]
  },
  {
   "cell_type": "code",
   "execution_count": 30,
   "id": "d343fad2",
   "metadata": {},
   "outputs": [
    {
     "name": "stdout",
     "output_type": "stream",
     "text": [
      "ABS                               12419\n",
      "Tuner/radio                       11455\n",
      "Alloy wheels                      10319\n",
      "Heated seats                       9249\n",
      "Cruise control                     8751\n",
      "Bluetooth                          8650\n",
      "Full Service History               8589\n",
      "Hands-free kit                     8324\n",
      "Navigation system                  7622\n",
      "Power Assisted Steering            5938\n",
      "Central locking                    5934\n",
      "Electric windows                   5924\n",
      "ESP                                5732\n",
      "Immobilizer                        5447\n",
      "Isofix                             5182\n",
      "On-board computer                  5146\n",
      "Traction control                   4721\n",
      "Electric side mirror               4664\n",
      "CD player                          4625\n",
      "Multifunction steering wheel       4414\n",
      "Non-smoker vehicle                 4029\n",
      "Leather steering wheel             3943\n",
      "Rain sensor                        3849\n",
      "Fog lamp                           3727\n",
      "Arm rest                           3544\n",
      "Light sensor                       3391\n",
      "Summer tyres                       3376\n",
      "USB port                           3246\n",
      "Start-stop system                  3206\n",
      "Tyre pressure monitoring           3079\n",
      "Daytime running lights             2867\n",
      "Winter tyres                       2559\n",
      "Autom. dimming interior mirror     2499\n",
      "Trailer coupling fix               2451\n",
      "Particulate filter                 2427\n",
      "Hill-start assist                  2357\n",
      "LED running lights                 2116\n",
      "Sport seats                        2093\n",
      "Roof rack                          2061\n",
      "Sound system                       1980\n",
      "Headlight washer system            1878\n",
      "Speed limit control system         1858\n",
      "Voice control                      1796\n",
      "Emergency tyre repair kit          1758\n",
      "Electric seat adjustment           1710\n",
      "Touchscreen                        1686\n",
      "Lumbar support                     1685\n",
      "Keyless central locking            1591\n",
      "                                   1550\n",
      "Alarm system                       1488\n",
      "Name: Features, dtype: int64\n"
     ]
    }
   ],
   "source": [
    "# Have a detailed look\n",
    "print(df['Features'].explode('Features').value_counts()[:50])"
   ]
  },
  {
   "cell_type": "markdown",
   "id": "1494ca7d",
   "metadata": {},
   "source": [
    "**\\#littletime** This feature might be useful because features of the car can make some price difference. If I wanted to make perfect model, I would make features out of these features, but for now, I exclude it from further analysis because I think it does not influence the price of the car so much."
   ]
  },
  {
   "cell_type": "code",
   "execution_count": 31,
   "id": "78bb80fc",
   "metadata": {},
   "outputs": [],
   "source": [
    "df.drop(columns=['Features'], inplace=True)"
   ]
  },
  {
   "cell_type": "code",
   "execution_count": 32,
   "id": "ce0baaa0",
   "metadata": {},
   "outputs": [
    {
     "name": "stdout",
     "output_type": "stream",
     "text": [
      "<class 'pandas.core.frame.DataFrame'>\n",
      "Int64Index: 14733 entries, 1 to 17361\n",
      "Data columns (total 8 columns):\n",
      " #   Column       Non-Null Count  Dtype  \n",
      "---  ------       --------------  -----  \n",
      " 0   Price        14733 non-null  int64  \n",
      " 1   Body         14733 non-null  object \n",
      " 2   Fuel         14733 non-null  object \n",
      " 3   Tachometer   14733 non-null  int64  \n",
      " 4   Gearbox      14733 non-null  object \n",
      " 5   Private      14733 non-null  int64  \n",
      " 6   EnginePower  14733 non-null  float64\n",
      " 7   Age          14733 non-null  int64  \n",
      "dtypes: float64(1), int64(4), object(3)\n",
      "memory usage: 1.0+ MB\n"
     ]
    }
   ],
   "source": [
    "# I will try to make model with 7 variables #\n",
    "df.info()"
   ]
  },
  {
   "cell_type": "markdown",
   "id": "77125622",
   "metadata": {},
   "source": [
    "# Model"
   ]
  },
  {
   "cell_type": "markdown",
   "id": "2a3492b3",
   "metadata": {},
   "source": [
    "### Prepare data"
   ]
  },
  {
   "cell_type": "code",
   "execution_count": 33,
   "id": "891694c8",
   "metadata": {},
   "outputs": [],
   "source": [
    "# One hot encoding #\n",
    "df_oh = pd.get_dummies(df, columns=['Body', 'Fuel', 'Gearbox'])"
   ]
  },
  {
   "cell_type": "code",
   "execution_count": 34,
   "id": "51d22bcb",
   "metadata": {},
   "outputs": [],
   "source": [
    "# Convert into required object #\n",
    "X_train = df_oh.loc[:,df_oh.columns!='Price']\n",
    "y_train = df_oh['Price']\n",
    "dtrain = xgb.DMatrix(X_train, label=y_train)"
   ]
  },
  {
   "cell_type": "markdown",
   "id": "043ab2f9",
   "metadata": {},
   "source": [
    "### Grid Search"
   ]
  },
  {
   "cell_type": "code",
   "execution_count": 35,
   "id": "e7e9efaf",
   "metadata": {},
   "outputs": [],
   "source": [
    "# Define grid #\n",
    "params = {\"eta\":[0.3, 0.1],\n",
    "          \"subsample\":[0.5, 0.75],\n",
    "          \"colsample_bytree\":[0.5, 0.75],\n",
    "          \"max_depth\":[2, 4, 6]\n",
    "         }\n",
    "grid = pd.DataFrame(list(ParameterGrid(params)))\n",
    "grid = grid.astype({\"max_depth\": int})"
   ]
  },
  {
   "cell_type": "code",
   "execution_count": 36,
   "id": "4cb9f56d",
   "metadata": {},
   "outputs": [
    {
     "name": "stderr",
     "output_type": "stream",
     "text": [
      "100%|██████████████████████████████████████████████████████████████████████████████████████████████████████████████████████████████████████████████████████████████████| 24/24 [00:56<00:00,  2.34s/it]\n"
     ]
    }
   ],
   "source": [
    "# Fit models #\n",
    "def fit(x):\n",
    "    params = {'objective':'reg:squarederror',\n",
    "              'eval_metric':'mae',\n",
    "              'eta':x.eta,\n",
    "              'subsample':x.subsample,\n",
    "              'colsample_bytree':x.colsample_bytree,\n",
    "              'max_depth':int(x.max_depth)\n",
    "             }\n",
    "    xgb_cv = xgb.cv(dtrain=dtrain, params=params, nfold=3, metrics='mae', seed=123, \n",
    "                    num_boost_round=500, early_stopping_rounds=10)\n",
    "    out = np.append(np.round(xgb_cv[-1:].values[0]), len(xgb_cv))\n",
    "    return out\n",
    "\n",
    "grid[['train-mae-mean','train-mae-std',\n",
    "      'test-mae-mean','test-mae-std', 'num_rounds']] = grid.progress_apply(fit, axis=1, result_type='expand')"
   ]
  },
  {
   "cell_type": "code",
   "execution_count": 37,
   "id": "6812b18e",
   "metadata": {},
   "outputs": [],
   "source": [
    "# Sort models by best test value #\n",
    "grid.sort_values('test-mae-mean', inplace=True)"
   ]
  },
  {
   "cell_type": "code",
   "execution_count": 38,
   "id": "6e2d1759",
   "metadata": {},
   "outputs": [
    {
     "name": "stdout",
     "output_type": "stream",
     "text": [
      "    colsample_bytree  eta  max_depth  subsample  train-mae-mean  \\\n",
      "23              0.75  0.1          6       0.75          1616.0   \n",
      "11              0.50  0.1          6       0.75          1707.0   \n",
      "22              0.75  0.1          6       0.50          1852.0   \n",
      "10              0.50  0.1          6       0.50          1863.0   \n",
      "21              0.75  0.1          4       0.75          2117.0   \n",
      "9               0.50  0.1          4       0.75          2208.0   \n",
      "20              0.75  0.1          4       0.50          2249.0   \n",
      "5               0.50  0.3          6       0.75          1938.0   \n",
      "17              0.75  0.3          6       0.75          1971.0   \n",
      "15              0.75  0.3          4       0.75          2137.0   \n",
      "8               0.50  0.1          4       0.50          2319.0   \n",
      "3               0.50  0.3          4       0.75          2286.0   \n",
      "16              0.75  0.3          6       0.50          2010.0   \n",
      "4               0.50  0.3          6       0.50          2039.0   \n",
      "14              0.75  0.3          4       0.50          2282.0   \n",
      "2               0.50  0.3          4       0.50          2327.0   \n",
      "19              0.75  0.1          2       0.75          2533.0   \n",
      "13              0.75  0.3          2       0.75          2500.0   \n",
      "1               0.50  0.3          2       0.75          2489.0   \n",
      "6               0.50  0.1          2       0.50          2537.0   \n",
      "7               0.50  0.1          2       0.75          2530.0   \n",
      "18              0.75  0.1          2       0.50          2597.0   \n",
      "12              0.75  0.3          2       0.50          2571.0   \n",
      "0               0.50  0.3          2       0.50          2576.0   \n",
      "\n",
      "    train-mae-std  test-mae-mean  test-mae-std  num_rounds  \n",
      "23           11.0         2408.0           9.0       311.0  \n",
      "11           17.0         2420.0           7.0       371.0  \n",
      "22            2.0         2454.0          12.0       212.0  \n",
      "10           25.0         2456.0          16.0       286.0  \n",
      "21           10.0         2470.0           6.0       344.0  \n",
      "9            14.0         2500.0          10.0       340.0  \n",
      "20           17.0         2514.0           3.0       235.0  \n",
      "5            28.0         2520.0          14.0        76.0  \n",
      "17           12.0         2521.0           5.0        49.0  \n",
      "15           10.0         2527.0           4.0       129.0  \n",
      "8            12.0         2542.0          12.0       240.0  \n",
      "3             7.0         2565.0           9.0        99.0  \n",
      "16           29.0         2572.0          18.0        60.0  \n",
      "4            14.0         2583.0           5.0        76.0  \n",
      "14           13.0         2599.0          15.0        94.0  \n",
      "2             8.0         2608.0           9.0       106.0  \n",
      "19           15.0         2626.0          15.0       387.0  \n",
      "13           11.0         2638.0          18.0       251.0  \n",
      "1            10.0         2639.0          16.0       306.0  \n",
      "6            11.0         2640.0          10.0       500.0  \n",
      "7            13.0         2642.0           4.0       500.0  \n",
      "18           14.0         2667.0          11.0       243.0  \n",
      "12           11.0         2678.0          12.0       153.0  \n",
      "0            21.0         2687.0          33.0       188.0  \n"
     ]
    }
   ],
   "source": [
    "# See results #\n",
    "print(grid)"
   ]
  },
  {
   "cell_type": "markdown",
   "id": "a0dcb1eb",
   "metadata": {},
   "source": [
    "The best model will make on average approximately 2400 eur high error in predictions. That is not the best, but considering small number of features and only quick search for best hyperparameters I think it is good enough."
   ]
  },
  {
   "cell_type": "markdown",
   "id": "727fd759",
   "metadata": {},
   "source": [
    "### Final Model"
   ]
  },
  {
   "cell_type": "code",
   "execution_count": 39,
   "id": "61943678",
   "metadata": {},
   "outputs": [],
   "source": [
    "# get best parameters #\n",
    "params = grid.iloc[0,:4]\n",
    "params['objective'] = 'reg:squarederror'\n",
    "params['eval_metric'] = 'mae'\n",
    "params = dict(params)\n",
    "params['max_depth'] = int(params['max_depth'])\n",
    "rounds = int(grid.iloc[0, -1])"
   ]
  },
  {
   "cell_type": "code",
   "execution_count": 40,
   "id": "f58b2b40",
   "metadata": {},
   "outputs": [],
   "source": [
    "model = xgb.train(params, dtrain, num_boost_round=rounds)"
   ]
  },
  {
   "cell_type": "code",
   "execution_count": 41,
   "id": "aaa8e837",
   "metadata": {},
   "outputs": [],
   "source": [
    "df['Prediction'] = np.round(model.predict(dtrain))\n",
    "df['Diff'] = df['Price'] - df['Prediction']"
   ]
  },
  {
   "cell_type": "code",
   "execution_count": 42,
   "id": "2ebd6acb",
   "metadata": {},
   "outputs": [
    {
     "name": "stdout",
     "output_type": "stream",
     "text": [
      "       Price          Body    Fuel  Tachometer  Gearbox  Private  EnginePower  \\\n",
      "RN                                                                              \n",
      "1       6690           MPV  Petrol       64250   Manual        1         88.0   \n",
      "2       7100         Combi  Diesel      213000  Automat        0        130.0   \n",
      "3      45000         Coupe  Petrol       17400  Automat        1        180.0   \n",
      "4      28950  Sedan/Saloon  Diesel      189000  Automat        1        190.0   \n",
      "5       8500         Coupe  Petrol      226000  Automat        1        132.0   \n",
      "...      ...           ...     ...         ...      ...      ...          ...   \n",
      "17357  18990  Sedan/Saloon  Petrol      226000  Automat        1        225.0   \n",
      "17358  11500  Sedan/Saloon  Diesel      174000   Manual        0        110.0   \n",
      "17359   6499         Combi  Diesel      186500  Automat        0        171.0   \n",
      "17360  49950           SUV  Diesel       15500  Automat        1        170.0   \n",
      "17361   4900  Sedan/Saloon  Diesel      186000   Manual        0        110.0   \n",
      "\n",
      "       Age  Prediction    Diff  \n",
      "RN                              \n",
      "1       10      7512.0  -822.0  \n",
      "2       13      6850.0   250.0  \n",
      "3        3     41695.0  3305.0  \n",
      "4        5     30400.0 -1450.0  \n",
      "5       14      7281.0  1219.0  \n",
      "...    ...         ...     ...  \n",
      "17357    6     20739.0 -1749.0  \n",
      "17358    7     11781.0  -281.0  \n",
      "17359   16      7097.0  -598.0  \n",
      "17360    3     49982.0   -32.0  \n",
      "17361   12      6477.0 -1577.0  \n",
      "\n",
      "[14733 rows x 10 columns]\n"
     ]
    }
   ],
   "source": [
    "# Model is ready for prediction and we can see examples of prediction and reality\n",
    "print(df)"
   ]
  }
 ],
 "metadata": {
  "kernelspec": {
   "display_name": "Python 3 (ipykernel)",
   "language": "python",
   "name": "python3"
  },
  "language_info": {
   "codemirror_mode": {
    "name": "ipython",
    "version": 3
   },
   "file_extension": ".py",
   "mimetype": "text/x-python",
   "name": "python",
   "nbconvert_exporter": "python",
   "pygments_lexer": "ipython3",
   "version": "3.9.13"
  }
 },
 "nbformat": 4,
 "nbformat_minor": 5
}
